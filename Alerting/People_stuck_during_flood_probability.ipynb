{
  "nbformat": 4,
  "nbformat_minor": 0,
  "metadata": {
    "colab": {
      "provenance": []
    },
    "kernelspec": {
      "name": "python3",
      "display_name": "Python 3"
    },
    "language_info": {
      "name": "python"
    }
  },
  "cells": [
    {
      "cell_type": "markdown",
      "source": [
        "Importing libraries"
      ],
      "metadata": {
        "id": "diEDRxFEyUpk"
      }
    },
    {
      "cell_type": "code",
      "source": [
        "import pandas as pd\n",
        "import matplotlib.pyplot as plt\n",
        "import numpy as np\n",
        "import seaborn as sbs\n",
        "%matplotlib inline    \n",
        "from sklearn.model_selection import GridSearchCV "
      ],
      "metadata": {
        "id": "SMZlSI2aXGKt"
      },
      "execution_count": 295,
      "outputs": []
    },
    {
      "cell_type": "markdown",
      "source": [
        "Loading datasets and processing"
      ],
      "metadata": {
        "id": "plpNsMVByZTK"
      }
    },
    {
      "cell_type": "code",
      "source": [
        "colony_dataset = pd.read_csv('/content/drive/MyDrive/Hackathon/Colony Dataset.csv')\n",
        "x = colony_dataset.drop(['Colony Name','Probability of getting stuck'],axis = 'columns')\n",
        "y = colony_dataset[['Probability of getting stuck']]\n",
        "colony_dataset.head()"
      ],
      "metadata": {
        "colab": {
          "base_uri": "https://localhost:8080/",
          "height": 285
        },
        "id": "N43bgD5qYryh",
        "outputId": "20793a7e-e917-4e92-b78d-8696d7075ca2"
      },
      "execution_count": 296,
      "outputs": [
        {
          "output_type": "execute_result",
          "data": {
            "text/plain": [
              "      Colony Name  Number of people in the colony  \\\n",
              "0        KK Nagar                           30000   \n",
              "1      Navalpattu                           50000   \n",
              "2  Bharathi Nagar                           30000   \n",
              "3  Shanmuga Nagar                           12000   \n",
              "4   Kumaran Nagar                           51222   \n",
              "\n",
              "   Facility rating of the colony  Flood Intensity of the area  \\\n",
              "0                             37                           99   \n",
              "1                              9                           27   \n",
              "2                             35                           58   \n",
              "3                             27                           23   \n",
              "4                             79                           64   \n",
              "\n",
              "   Distance from water bodies  Altitude of the colony  \\\n",
              "0                        3537                    4334   \n",
              "1                        6650                     986   \n",
              "2                        4080                    2661   \n",
              "3                         698                     871   \n",
              "4                        8154                     967   \n",
              "\n",
              "   Probability of getting stuck  \n",
              "0                      0.674075  \n",
              "1                      0.428330  \n",
              "2                      0.505030  \n",
              "3                      0.207600  \n",
              "4                      0.706208  "
            ],
            "text/html": [
              "\n",
              "  <div id=\"df-09871f88-10b7-463a-bc56-c26108ba5546\">\n",
              "    <div class=\"colab-df-container\">\n",
              "      <div>\n",
              "<style scoped>\n",
              "    .dataframe tbody tr th:only-of-type {\n",
              "        vertical-align: middle;\n",
              "    }\n",
              "\n",
              "    .dataframe tbody tr th {\n",
              "        vertical-align: top;\n",
              "    }\n",
              "\n",
              "    .dataframe thead th {\n",
              "        text-align: right;\n",
              "    }\n",
              "</style>\n",
              "<table border=\"1\" class=\"dataframe\">\n",
              "  <thead>\n",
              "    <tr style=\"text-align: right;\">\n",
              "      <th></th>\n",
              "      <th>Colony Name</th>\n",
              "      <th>Number of people in the colony</th>\n",
              "      <th>Facility rating of the colony</th>\n",
              "      <th>Flood Intensity of the area</th>\n",
              "      <th>Distance from water bodies</th>\n",
              "      <th>Altitude of the colony</th>\n",
              "      <th>Probability of getting stuck</th>\n",
              "    </tr>\n",
              "  </thead>\n",
              "  <tbody>\n",
              "    <tr>\n",
              "      <th>0</th>\n",
              "      <td>KK Nagar</td>\n",
              "      <td>30000</td>\n",
              "      <td>37</td>\n",
              "      <td>99</td>\n",
              "      <td>3537</td>\n",
              "      <td>4334</td>\n",
              "      <td>0.674075</td>\n",
              "    </tr>\n",
              "    <tr>\n",
              "      <th>1</th>\n",
              "      <td>Navalpattu</td>\n",
              "      <td>50000</td>\n",
              "      <td>9</td>\n",
              "      <td>27</td>\n",
              "      <td>6650</td>\n",
              "      <td>986</td>\n",
              "      <td>0.428330</td>\n",
              "    </tr>\n",
              "    <tr>\n",
              "      <th>2</th>\n",
              "      <td>Bharathi Nagar</td>\n",
              "      <td>30000</td>\n",
              "      <td>35</td>\n",
              "      <td>58</td>\n",
              "      <td>4080</td>\n",
              "      <td>2661</td>\n",
              "      <td>0.505030</td>\n",
              "    </tr>\n",
              "    <tr>\n",
              "      <th>3</th>\n",
              "      <td>Shanmuga Nagar</td>\n",
              "      <td>12000</td>\n",
              "      <td>27</td>\n",
              "      <td>23</td>\n",
              "      <td>698</td>\n",
              "      <td>871</td>\n",
              "      <td>0.207600</td>\n",
              "    </tr>\n",
              "    <tr>\n",
              "      <th>4</th>\n",
              "      <td>Kumaran Nagar</td>\n",
              "      <td>51222</td>\n",
              "      <td>79</td>\n",
              "      <td>64</td>\n",
              "      <td>8154</td>\n",
              "      <td>967</td>\n",
              "      <td>0.706208</td>\n",
              "    </tr>\n",
              "  </tbody>\n",
              "</table>\n",
              "</div>\n",
              "      <button class=\"colab-df-convert\" onclick=\"convertToInteractive('df-09871f88-10b7-463a-bc56-c26108ba5546')\"\n",
              "              title=\"Convert this dataframe to an interactive table.\"\n",
              "              style=\"display:none;\">\n",
              "        \n",
              "  <svg xmlns=\"http://www.w3.org/2000/svg\" height=\"24px\"viewBox=\"0 0 24 24\"\n",
              "       width=\"24px\">\n",
              "    <path d=\"M0 0h24v24H0V0z\" fill=\"none\"/>\n",
              "    <path d=\"M18.56 5.44l.94 2.06.94-2.06 2.06-.94-2.06-.94-.94-2.06-.94 2.06-2.06.94zm-11 1L8.5 8.5l.94-2.06 2.06-.94-2.06-.94L8.5 2.5l-.94 2.06-2.06.94zm10 10l.94 2.06.94-2.06 2.06-.94-2.06-.94-.94-2.06-.94 2.06-2.06.94z\"/><path d=\"M17.41 7.96l-1.37-1.37c-.4-.4-.92-.59-1.43-.59-.52 0-1.04.2-1.43.59L10.3 9.45l-7.72 7.72c-.78.78-.78 2.05 0 2.83L4 21.41c.39.39.9.59 1.41.59.51 0 1.02-.2 1.41-.59l7.78-7.78 2.81-2.81c.8-.78.8-2.07 0-2.86zM5.41 20L4 18.59l7.72-7.72 1.47 1.35L5.41 20z\"/>\n",
              "  </svg>\n",
              "      </button>\n",
              "      \n",
              "  <style>\n",
              "    .colab-df-container {\n",
              "      display:flex;\n",
              "      flex-wrap:wrap;\n",
              "      gap: 12px;\n",
              "    }\n",
              "\n",
              "    .colab-df-convert {\n",
              "      background-color: #E8F0FE;\n",
              "      border: none;\n",
              "      border-radius: 50%;\n",
              "      cursor: pointer;\n",
              "      display: none;\n",
              "      fill: #1967D2;\n",
              "      height: 32px;\n",
              "      padding: 0 0 0 0;\n",
              "      width: 32px;\n",
              "    }\n",
              "\n",
              "    .colab-df-convert:hover {\n",
              "      background-color: #E2EBFA;\n",
              "      box-shadow: 0px 1px 2px rgba(60, 64, 67, 0.3), 0px 1px 3px 1px rgba(60, 64, 67, 0.15);\n",
              "      fill: #174EA6;\n",
              "    }\n",
              "\n",
              "    [theme=dark] .colab-df-convert {\n",
              "      background-color: #3B4455;\n",
              "      fill: #D2E3FC;\n",
              "    }\n",
              "\n",
              "    [theme=dark] .colab-df-convert:hover {\n",
              "      background-color: #434B5C;\n",
              "      box-shadow: 0px 1px 3px 1px rgba(0, 0, 0, 0.15);\n",
              "      filter: drop-shadow(0px 1px 2px rgba(0, 0, 0, 0.3));\n",
              "      fill: #FFFFFF;\n",
              "    }\n",
              "  </style>\n",
              "\n",
              "      <script>\n",
              "        const buttonEl =\n",
              "          document.querySelector('#df-09871f88-10b7-463a-bc56-c26108ba5546 button.colab-df-convert');\n",
              "        buttonEl.style.display =\n",
              "          google.colab.kernel.accessAllowed ? 'block' : 'none';\n",
              "\n",
              "        async function convertToInteractive(key) {\n",
              "          const element = document.querySelector('#df-09871f88-10b7-463a-bc56-c26108ba5546');\n",
              "          const dataTable =\n",
              "            await google.colab.kernel.invokeFunction('convertToInteractive',\n",
              "                                                     [key], {});\n",
              "          if (!dataTable) return;\n",
              "\n",
              "          const docLinkHtml = 'Like what you see? Visit the ' +\n",
              "            '<a target=\"_blank\" href=https://colab.research.google.com/notebooks/data_table.ipynb>data table notebook</a>'\n",
              "            + ' to learn more about interactive tables.';\n",
              "          element.innerHTML = '';\n",
              "          dataTable['output_type'] = 'display_data';\n",
              "          await google.colab.output.renderOutput(dataTable, element);\n",
              "          const docLink = document.createElement('div');\n",
              "          docLink.innerHTML = docLinkHtml;\n",
              "          element.appendChild(docLink);\n",
              "        }\n",
              "      </script>\n",
              "    </div>\n",
              "  </div>\n",
              "  "
            ]
          },
          "metadata": {},
          "execution_count": 296
        }
      ]
    },
    {
      "cell_type": "markdown",
      "source": [
        "Various parameters vs results"
      ],
      "metadata": {
        "id": "0EeNJ9NIyegq"
      }
    },
    {
      "cell_type": "code",
      "source": [
        "plt.scatter(colony_dataset['Number of people in the colony'],colony_dataset['Probability of getting stuck'])"
      ],
      "metadata": {
        "colab": {
          "base_uri": "https://localhost:8080/",
          "height": 282
        },
        "id": "I3NxAiFCko7L",
        "outputId": "11006005-6c78-4957-8408-7de7bd1fd708"
      },
      "execution_count": 297,
      "outputs": [
        {
          "output_type": "execute_result",
          "data": {
            "text/plain": [
              "<matplotlib.collections.PathCollection at 0x7fadcdf3d3a0>"
            ]
          },
          "metadata": {},
          "execution_count": 297
        },
        {
          "output_type": "display_data",
          "data": {
            "text/plain": [
              "<Figure size 432x288 with 1 Axes>"
            ],
            "image/png": "[encoded data removed]"
          },
          "metadata": {
            "needs_background": "light"
          }
        }
      ]
    },
    {
      "cell_type": "code",
      "source": [
        "plt.scatter(colony_dataset['Facility rating of the colony'],colony_dataset['Probability of getting stuck'],color = 'Red')\n"
      ],
      "metadata": {
        "colab": {
          "base_uri": "https://localhost:8080/",
          "height": 282
        },
        "id": "lLdrPw1dwix6",
        "outputId": "625c1f80-3c1a-4a64-8ccd-862e5ae78a9a"
      },
      "execution_count": 298,
      "outputs": [
        {
          "output_type": "execute_result",
          "data": {
            "text/plain": [
              "<matplotlib.collections.PathCollection at 0x7fadcdf0bb20>"
            ]
          },
          "metadata": {},
          "execution_count": 298
        },
        {
          "output_type": "display_data",
          "data": {
            "text/plain": [
              "<Figure size 432x288 with 1 Axes>"
            ],
            "image/png": "[encoded data removed]"
          },
          "metadata": {
            "needs_background": "light"
          }
        }
      ]
    },
    {
      "cell_type": "code",
      "source": [
        "plt.scatter(colony_dataset['Flood Intensity of the area'],colony_dataset['Probability of getting stuck'],color = 'green')\n"
      ],
      "metadata": {
        "colab": {
          "base_uri": "https://localhost:8080/",
          "height": 282
        },
        "id": "IdsWBNukxDvQ",
        "outputId": "82ab6037-09ba-46b9-eaad-3ff1c1c3ed9d"
      },
      "execution_count": 299,
      "outputs": [
        {
          "output_type": "execute_result",
          "data": {
            "text/plain": [
              "<matplotlib.collections.PathCollection at 0x7fadcde5e9a0>"
            ]
          },
          "metadata": {},
          "execution_count": 299
        },
        {
          "output_type": "display_data",
          "data": {
            "text/plain": [
              "<Figure size 432x288 with 1 Axes>"
            ],
            "image/png": "[encoded data removed]"
          },
          "metadata": {
            "needs_background": "light"
          }
        }
      ]
    },
    {
      "cell_type": "code",
      "source": [
        "plt.scatter(colony_dataset['Distance from water bodies'],colony_dataset['Probability of getting stuck'],color = 'purple')"
      ],
      "metadata": {
        "colab": {
          "base_uri": "https://localhost:8080/",
          "height": 282
        },
        "id": "DzUhkIsPxMQv",
        "outputId": "f3a52354-5344-486b-b0ab-c6e4a681d8f3"
      },
      "execution_count": 300,
      "outputs": [
        {
          "output_type": "execute_result",
          "data": {
            "text/plain": [
              "<matplotlib.collections.PathCollection at 0x7fadcde30d30>"
            ]
          },
          "metadata": {},
          "execution_count": 300
        },
        {
          "output_type": "display_data",
          "data": {
            "text/plain": [
              "<Figure size 432x288 with 1 Axes>"
            ],
            "image/png": "[encoded data removed]"
          },
          "metadata": {
            "needs_background": "light"
          }
        }
      ]
    },
    {
      "cell_type": "code",
      "source": [
        "plt.scatter(colony_dataset['Altitude of the colony'],colony_dataset['Probability of getting stuck'],color = 'black')"
      ],
      "metadata": {
        "colab": {
          "base_uri": "https://localhost:8080/",
          "height": 282
        },
        "id": "X3JQRY6ixVXS",
        "outputId": "b842c1ba-f7f3-4efa-b3d5-5b977020051c"
      },
      "execution_count": 301,
      "outputs": [
        {
          "output_type": "execute_result",
          "data": {
            "text/plain": [
              "<matplotlib.collections.PathCollection at 0x7fadcde00ee0>"
            ]
          },
          "metadata": {},
          "execution_count": 301
        },
        {
          "output_type": "display_data",
          "data": {
            "text/plain": [
              "<Figure size 432x288 with 1 Axes>"
            ],
            "image/png": "[encoded data removed]"
          },
          "metadata": {
            "needs_background": "light"
          }
        }
      ]
    },
    {
      "cell_type": "code",
      "source": [
        "from sklearn.model_selection import train_test_split\n",
        "x_train , x_test , y_train , y_test = train_test_split(x,y,test_size = 0.2)"
      ],
      "metadata": {
        "id": "SVesXYAmxmCV"
      },
      "execution_count": 302,
      "outputs": []
    },
    {
      "cell_type": "markdown",
      "source": [
        "Scaling features for better accuracy"
      ],
      "metadata": {
        "id": "OkKUsao48MdK"
      }
    },
    {
      "cell_type": "code",
      "source": [
        "from sklearn.preprocessing import MinMaxScaler\n",
        "scaler = MinMaxScaler(feature_range = (0,1))\n",
        "x_train_scaled = scaler.fit_transform(x_train)\n",
        "x_train = pd.DataFrame(x_train_scaled)\n",
        "y_train_scaled = scaler.fit_transform(y_train)\n",
        "y_train = pd.DataFrame(y_train_scaled)"
      ],
      "metadata": {
        "id": "kM0_Ge_f0FnE"
      },
      "execution_count": 303,
      "outputs": []
    },
    {
      "cell_type": "markdown",
      "source": [
        "Support Vector Regression (SVR) implementation"
      ],
      "metadata": {
        "id": "XcI0bJOMShmV"
      }
    },
    {
      "cell_type": "code",
      "source": [
        "from sklearn.svm import SVR\n",
        "model = SVR(kernel = 'rbf')\n",
        "model.fit(x_train,y_train)\n",
        "model.score(x_test,y_test)"
      ],
      "metadata": {
        "colab": {
          "base_uri": "https://localhost:8080/"
        },
        "id": "7Gi9DRDfSmFZ",
        "outputId": "42967eb2-cd60-4a3c-b663-9c395afc1041"
      },
      "execution_count": 304,
      "outputs": [
        {
          "output_type": "stream",
          "name": "stderr",
          "text": [
            "/usr/local/lib/python3.8/dist-packages/sklearn/utils/validation.py:993: DataConversionWarning: A column-vector y was passed when a 1d array was expected. Please change the shape of y to (n_samples, ), for example using ravel().\n",
            "  y = column_or_1d(y, warn=True)\n",
            "/usr/local/lib/python3.8/dist-packages/sklearn/base.py:443: UserWarning: X has feature names, but SVR was fitted without feature names\n",
            "  warnings.warn(\n"
          ]
        },
        {
          "output_type": "execute_result",
          "data": {
            "text/plain": [
              "-0.06937824120629843"
            ]
          },
          "metadata": {},
          "execution_count": 304
        }
      ]
    }
  ]
}