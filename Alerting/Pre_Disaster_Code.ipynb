{
  "nbformat": 4,
  "nbformat_minor": 0,
  "metadata": {
    "colab": {
      "provenance": []
    },
    "kernelspec": {
      "name": "python3",
      "display_name": "Python 3"
    },
    "language_info": {
      "name": "python"
    },
    "accelerator": "GPU",
    "gpuClass": "standard"
  },
  "cells": [
    {
      "cell_type": "code",
      "execution_count": null,
      "metadata": {
        "id": "TMFNJPSWYeaw"
      },
      "outputs": [],
      "source": [
        "pip install tensorflow"
      ]
    },
    {
      "cell_type": "markdown",
      "source": [
        "Importing necesssary libraries`"
      ],
      "metadata": {
        "id": "27EpOBiqpXU_"
      }
    },
    {
      "cell_type": "code",
      "source": [
        "import pandas as pd\n",
        "from tensorflow import keras\n",
        "from keras.models import Sequential\n",
        "from keras.layers import Dense\n",
        "from keras.callbacks import EarlyStopping\n",
        "from keras.utils import to_categorical\n",
        "import matplotlib.pyplot as plt"
      ],
      "metadata": {
        "id": "7OGG5X7U7DNc"
      },
      "execution_count": 2,
      "outputs": []
    },
    {
      "cell_type": "markdown",
      "source": [
        "Loading data"
      ],
      "metadata": {
        "id": "SdQmjb_spa-F"
      }
    },
    {
      "cell_type": "code",
      "source": [
        "Input_data = pd.read_csv('/content/drive/MyDrive/Colony Dataset.csv')\n",
        "Inout_data=Input_data.drop('Colony Name',axis='columns')\n",
        "Input_data=Input_data.drop('Year ',axis='columns')\n",
        "features = Input_data[['Rainfall ','Min_Temp','Max_Temp ']]\n",
        "target_values=Input_data[['Severity_Value ']]"
      ],
      "metadata": {
        "id": "xdjIFbDW7MNn"
      },
      "execution_count": 83,
      "outputs": []
    },
    {
      "cell_type": "markdown",
      "source": [
        "Splitting data for training and testing"
      ],
      "metadata": {
        "id": "-mIxPMcRpcuw"
      }
    },
    {
      "cell_type": "code",
      "source": [
        "from sklearn.model_selection import train_test_split\n",
        "x_train,x_test,y_train,y_test=train_test_split(features,target_values,test_size=0.2)"
      ],
      "metadata": {
        "id": "zYv-AtScMABY"
      },
      "execution_count": 84,
      "outputs": []
    },
    {
      "cell_type": "markdown",
      "source": [
        "Generating Neural Networks to find the severity value"
      ],
      "metadata": {
        "id": "4x0FEz-mphwe"
      }
    },
    {
      "cell_type": "code",
      "source": [
        "model = Sequential()\n",
        "n_cols = x_train.shape[1]\n",
        "model.add(Dense(10, activation='relu', input_shape=(n_cols,)))\n",
        "model.add(Dense(10, activation='relu'))\n",
        "model.add(Dense(1))\n",
        "model.compile(optimizer='adam', loss='mean_squared_error',metrics='mse')"
      ],
      "metadata": {
        "id": "vYBykEwoYFne"
      },
      "execution_count": 114,
      "outputs": []
    },
    {
      "cell_type": "code",
      "source": [
        "history =model.fit(x_train,y_train,validation_split=0.2,verbose=False, epochs=1000)"
      ],
      "metadata": {
        "id": "jNBvyrq6Yt8u"
      },
      "execution_count": 115,
      "outputs": []
    },
    {
      "cell_type": "markdown",
      "source": [
        "Plotting the root mean square error to find the elbow point in the curve"
      ],
      "metadata": {
        "id": "PGKsf150pqP7"
      }
    },
    {
      "cell_type": "code",
      "source": [
        "plt.plot( history.history['mse'],'b', history.history['val_mse'],'r')"
      ],
      "metadata": {
        "colab": {
          "base_uri": "https://localhost:8080/",
          "height": 300
        },
        "id": "sauSbVaOO3bL",
        "outputId": "8d73a1f8-7171-4d6a-980d-769fa9b1e62c"
      },
      "execution_count": 133,
      "outputs": [
        {
          "output_type": "execute_result",
          "data": {
            "text/plain": [
              "[<matplotlib.lines.Line2D at 0x7fbaa4164df0>,\n",
              " <matplotlib.lines.Line2D at 0x7fbaa4164e20>]"
            ]
          },
          "metadata": {},
          "execution_count": 133
        },
        {
          "output_type": "display_data",
          "data": {
            "text/plain": [
              "<Figure size 432x288 with 1 Axes>"
            ],
            "image/png": "[encoded data removed]"
          },
          "metadata": {
            "needs_background": "light"
          }
        }
      ]
    },
    {
      "cell_type": "markdown",
      "source": [
        "Training and Testing"
      ],
      "metadata": {
        "id": "d6mFzje6pzf_"
      }
    },
    {
      "cell_type": "code",
      "source": [
        "model.fit(x_train,y_train, epochs=160,verbose=False)"
      ],
      "metadata": {
        "colab": {
          "base_uri": "https://localhost:8080/"
        },
        "id": "SdNUTJNgQe5X",
        "outputId": "c4c42750-5c00-42a4-c50f-606ce1bc1b5b"
      },
      "execution_count": 134,
      "outputs": [
        {
          "output_type": "execute_result",
          "data": {
            "text/plain": [
              "<keras.callbacks.History at 0x7fbaa417b880>"
            ]
          },
          "metadata": {},
          "execution_count": 134
        }
      ]
    },
    {
      "cell_type": "code",
      "source": [
        "model.evaluate(x_test,y_test)"
      ],
      "metadata": {
        "colab": {
          "base_uri": "https://localhost:8080/"
        },
        "id": "atZjfXSUxluZ",
        "outputId": "dcfed00c-98d8-4fb7-81c2-a3384c71b51c"
      },
      "execution_count": 135,
      "outputs": [
        {
          "output_type": "stream",
          "name": "stdout",
          "text": [
            "2/2 [==============================] - 0s 3ms/step - loss: 1.9825 - mse: 1.9825\n"
          ]
        },
        {
          "output_type": "execute_result",
          "data": {
            "text/plain": [
              "[1.9825211763381958, 1.9825211763381958]"
            ]
          },
          "metadata": {},
          "execution_count": 135
        }
      ]
    },
    {
      "cell_type": "code",
      "source": [
        "model.predict([[245,24,32]])"
      ],
      "metadata": {
        "colab": {
          "base_uri": "https://localhost:8080/"
        },
        "id": "4Gx9dWKjWow3",
        "outputId": "f210e899-342c-4a63-f5fe-d0ec19a7654c"
      },
      "execution_count": 136,
      "outputs": [
        {
          "output_type": "stream",
          "name": "stdout",
          "text": [
            "1/1 [==============================] - 0s 22ms/step\n"
          ]
        },
        {
          "output_type": "execute_result",
          "data": {
            "text/plain": [
              "array([[87.470535]], dtype=float32)"
            ]
          },
          "metadata": {},
          "execution_count": 136
        }
      ]
    }
  ]
}